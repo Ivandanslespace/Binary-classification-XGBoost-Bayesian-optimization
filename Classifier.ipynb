{
 "cells": [
  {
   "cell_type": "markdown",
   "id": "ed63e46f-1a87-4177-b63b-c2fd84720ab6",
   "metadata": {},
   "source": [
    "# Config"
   ]
  },
  {
   "cell_type": "code",
   "execution_count": null,
   "id": "7fbeefcf-bd2f-4cdb-8369-51ac87b353e7",
   "metadata": {},
   "outputs": [],
   "source": [
    "# System\n",
    "import os\n",
    "import json\n",
    "import pickle\n",
    "    \n",
    "# Data processing\n",
    "import pandas as pd\n",
    "import numpy as np\n",
    "from scipy.stats import zscore #Z-score\n",
    "from sklearn.model_selection import train_test_split\n",
    "\n",
    "# XGBoost\n",
    "import xgboost as xgb \n",
    "from xgboost import XGBClassifier\n",
    "from sklearn.model_selection import cross_validate, KFold\n",
    "from sklearn.model_selection import train_test_split\n",
    "\n",
    "# Hyperparameters Optimisation\n",
    "import hyperopt\n",
    "from hyperopt import hp, fmin, tpe, Trials, partial\n",
    "from hyperopt.early_stop import no_progress_loss\n",
    "\n",
    "# Accuracy\n",
    "from sklearn.metrics import accuracy_score\n",
    "\n",
    "# Plot\n",
    "import graphviz\n",
    "%matplotlib ipympl\n",
    "import matplotlib.pyplot as plt\n",
    "\n",
    "model_path = 'best_paramas.pickle'"
   ]
  },
  {
   "cell_type": "markdown",
   "id": "ee1ff991-6537-435e-83c7-1487d0c67b4e",
   "metadata": {
    "tags": []
   },
   "source": [
    "# Data preparation"
   ]
  },
  {
   "cell_type": "code",
   "execution_count": 148,
   "id": "ab3ddac7-fb49-4ec5-92a3-93dde80b6c00",
   "metadata": {},
   "outputs": [],
   "source": [
    "class data_processing:\n",
    "    def __init__(self, file, index_col):\n",
    "        self.data = pd.read_csv(file, index_col=index_col)\n",
    "        self.one_hot_columns_name = []\n",
    "\n",
    "    def onehot_category(self, columns2onehot):\n",
    "        self.one_hot_columns = pd.get_dummies(self.data[columns2onehot], drop_first=True)\n",
    "        self.one_hot_columns_name = self.one_hot_columns.columns\n",
    "        self.data = pd.concat([self.data, self.one_hot_columns], axis=1)\n",
    "        self.data = self.data.drop(columns=columns2onehot)\n",
    "\n",
    "    def z_score(self, no_zscore_columns):\n",
    "        self.columns_category = pd.DataFrame(self.data, columns=no_zscore_columns)\n",
    "        columns_4_Z_score = self.data.drop(columns=no_zscore_columns)\n",
    "        self.columns_4_Z_score = columns_4_Z_score.apply(zscore)\n",
    "        self.data = pd.concat([self.columns_category, self.columns_4_Z_score], axis=1)\n",
    "        \n",
    "def data_train_test_split (data_label, dataset):\n",
    "    X = dataset.drop(columns=[data_label])\n",
    "    y = dataset[data_label]\n",
    "    \n",
    "    # Splitting train test dataset\n",
    "    Xtrain,Xtest,Ytrain,Ytest = train_test_split(X,y,test_size=0.3,random_state=1412)\n",
    "    dtrain = xgb.DMatrix(Xtrain,Ytrain)\n",
    "    dtest = xgb.DMatrix(Xtest,Ytest)\n",
    "    \n",
    "    return dtrain, Xtrain, Xtest, dtest, Xtest, Ytest"
   ]
  },
  {
   "cell_type": "code",
   "execution_count": 150,
   "id": "1b5296f9-4ab3-499d-a208-89e900c8cede",
   "metadata": {},
   "outputs": [],
   "source": []
  },
  {
   "cell_type": "code",
   "execution_count": 151,
   "id": "724b3c70-cfff-4e14-8094-8737bd5698c4",
   "metadata": {},
   "outputs": [],
   "source": []
  },
  {
   "cell_type": "markdown",
   "id": "b0c508a6-83e0-4b12-8768-5f2a4cf081f7",
   "metadata": {},
   "source": [
    "# Model Construction and Tuning"
   ]
  },
  {
   "cell_type": "code",
   "execution_count": 263,
   "id": "76a3f993-136a-48b5-b44b-dbb16655ffb6",
   "metadata": {},
   "outputs": [],
   "source": [
    "def size_param_grid(param_grid):\n",
    "    # inspecting the size of param space\n",
    "    total =1\n",
    "    for key, value in param_grid.items():\n",
    "        total = total *len(value)\n",
    "    print(\"the size of param space is\",int(total))"
   ]
  },
  {
   "cell_type": "code",
   "execution_count": 228,
   "id": "9ca148ff-ff9a-4003-9d6b-38bfae793ce4",
   "metadata": {},
   "outputs": [],
   "source": [
    "def hyperopt_objective(params):\n",
    "    paramsforxgb = {\"eta\":params[\"eta\"]\n",
    "                    ,\"booster\":params[\"booster\"]\n",
    "                    ,\"colsample_bytree\":params[\"colsample_bytree\"]\n",
    "                    ,\"colsample_bynode\":params[\"colsample_bynode\"]\n",
    "                    ,\"gamma\":params[\"gamma\"]\n",
    "                    ,\"lambda\":params[\"lambda\"]\n",
    "                    ,\"min_child_weight\":params[\"min_child_weight\"]\n",
    "                    ,\"max_depth\":int(params[\"max_depth\"])\n",
    "                    ,\"subsample\":params[\"subsample\"]\n",
    "                    ,\"objective\":params[\"objective\"]\n",
    "                    ,\"rate_drop\":params[\"rate_drop\"]\n",
    "                    ,\"nthread\":14\n",
    "                    ,\"verbosity\":0\n",
    "                    ,\"seed\":1412}\n",
    "    result = xgb.cv(params,data_xgb, seed=1412, metrics=(\"error\")\n",
    "                    ,num_boost_round=int(params[\"num_boost_round\"]))\n",
    "    return result.iloc[-1,2]"
   ]
  },
  {
   "cell_type": "code",
   "execution_count": 231,
   "id": "57fc355f-07b7-4ed6-9c7d-efec0eb5c8ba",
   "metadata": {},
   "outputs": [],
   "source": [
    "# # Stadarlizer format of parameters using hp.choice for both category and numeric values and np.arange(start, end, interval) for both int and float value.\n",
    "# Version 1\n",
    "# param_grid_simple = {\"booster\":hp.choice(\"booster\",[\"gbtree\",\"dart\"])\n",
    "#                      ,\"objective\":hp.choice(\"objective\",[\"binary:logistic\"])\n",
    "#                      ,\"max_depth\":hp.choice(\"max_depth\",[*np.arange(2,30,2)])\n",
    "#                      ,'num_boost_round': hp.choice(\"num_boost_round\",[*np.arange(50,200,10)])\n",
    "#                      ,\"eta\": hp.choice(\"eta\",[*np.arange(0.05,2.05,0.05)])\n",
    "#                      ,\"colsample_bytree\":hp.choice(\"colsample_bytree\",[*np.arange(0.3,1,0.1)])\n",
    "#                      ,\"colsample_bynode\":hp.choice(\"colsample_bynode\",[*np.arange(0.1,1,0.1)])\n",
    "#                      ,\"gamma\":hp.choice(\"gamma\",[*np.arange(0,10,0.3)])\n",
    "#                      ,\"lambda\":hp.choice(\"lambda\",[*np.arange(0,3,0.2)])\n",
    "#                      ,\"min_child_weight\":hp.choice(\"min_child_weight\",[*np.arange(0,50,2)])\n",
    "#                      ,\"subsample\":hp.choice(\"subsample\",[*np.arange(0.1,1,0.1)])\n",
    "#                      ,\"rate_drop\":hp.choice(\"rate_drop\",[*np.arange(0.1,1,0.1)])\n",
    "#                     }"
   ]
  },
  {
   "cell_type": "code",
   "execution_count": 229,
   "id": "280dbc0c-bdf2-46cb-980f-d5cc16b76ee8",
   "metadata": {},
   "outputs": [],
   "source": [
    "# # Stadarlizer format of parameters using hp.choice for both category and numeric values and np.arange(start, end, interval) for both int and float value.\n",
    "# Version 2\n",
    "# param_grid_simple = {\"booster\":hp.choice(\"booster\",param_grid[\"booster\"])\n",
    "#                      ,\"objective\":hp.choice(\"objective\",param_grid[\"objective\"])\n",
    "#                      ,\"max_depth\":hp.choice(\"max_depth\",param_grid[\"max_depth\"])\n",
    "#                      ,'num_boost_round': hp.choice(\"num_boost_round\",param_grid[\"num_boost_round\"])\n",
    "#                      ,\"eta\": hp.choice(\"eta\",param_grid[\"eta\"])\n",
    "#                      ,\"colsample_bytree\":hp.choice(\"colsample_bytree\",param_grid[\"colsample_bytree\"])\n",
    "#                      ,\"colsample_bynode\":hp.choice(\"colsample_bynode\",param_grid[\"colsample_bynode\"])\n",
    "#                      ,\"gamma\":hp.choice(\"gamma\",param_grid[\"gamma\"])\n",
    "#                      ,\"lambda\":hp.choice(\"lambda\",param_grid[\"lambda\"])\n",
    "#                      ,\"min_child_weight\":hp.choice(\"min_child_weight\",param_grid[\"min_child_weight\"])\n",
    "#                      ,\"subsample\":hp.choice(\"subsample\",param_grid[\"subsample\"])\n",
    "#                      ,\"rate_drop\":hp.choice(\"rate_drop\",param_grid[\"rate_drop\"])\n",
    "#                     }\n",
    "# param_grid_simple"
   ]
  },
  {
   "cell_type": "code",
   "execution_count": null,
   "id": "f5db62ef-9b34-426f-af90-e8fa763f7aaf",
   "metadata": {},
   "outputs": [],
   "source": [
    "# Version 3\n",
    "# param_grid_simple = {key:hp.choice(key,value) for key, value in param_grid.items()}"
   ]
  },
  {
   "cell_type": "code",
   "execution_count": 265,
   "id": "7b152b8f-eca9-4b04-94ce-8c6247f4841d",
   "metadata": {},
   "outputs": [],
   "source": [
    "def param_hyperopt(max_evals=100):\n",
    "    trials = Trials()\n",
    "    \n",
    "    early_stop_fn = no_progress_loss(30)\n",
    "\n",
    "    params_best = fmin(hyperopt_objective\n",
    "                       , space = param_grid_simple\n",
    "                       , algo = tpe.suggest\n",
    "                       , max_evals = max_evals\n",
    "                       , verbose=True\n",
    "                       , trials = trials\n",
    "                       , early_stop_fn = early_stop_fn\n",
    "                      )\n",
    "    best_paramas = dict([(param, value[params_best[param]]) for param, value in param_grid.items()])\n",
    "    print(best_paramas)\n",
    "    return best_paramas, trials"
   ]
  },
  {
   "cell_type": "code",
   "execution_count": null,
   "id": "edf46e8f-0eb2-4d19-bad0-1f6823a0a75d",
   "metadata": {},
   "outputs": [],
   "source": [
    "# xgb.set_config(verbosity=0) # hide bizzare warning\n",
    "# params_best, trials = param_hyperopt(3) \n",
    "\n",
    "# Matching the best settings from the original param range by Bayesian optimization results\n",
    "# best_paramas = []\n",
    "# for param in param_grid:\n",
    "#     best_paramas.append((param, param_grid.get(param)[params_best[param]]))\n",
    "# best_paramas = dict(best_paramas)\n",
    "\n",
    "# oneline VERSION ↓\n",
    "# best_paramas = dict([(param, value[params_best[param]]) for param, value in param_grid.items()])\n",
    "# best_paramas"
   ]
  },
  {
   "cell_type": "markdown",
   "id": "c47a4625-8417-4166-baea-8d8d3f08e851",
   "metadata": {},
   "source": [
    "# Execute"
   ]
  },
  {
   "cell_type": "markdown",
   "id": "71ef3550-dd84-4c81-b622-05efd004cdeb",
   "metadata": {},
   "source": [
    "## Data prepartion"
   ]
  },
  {
   "cell_type": "code",
   "execution_count": 289,
   "id": "81957b33-4b8e-4d27-a9c7-ebcf171bccbd",
   "metadata": {},
   "outputs": [],
   "source": [
    "dataset = data_processing(\"Data/Financial-Data.csv\", \"Entry_id\")\n",
    "dataset.z_score(no_zscore_columns=[\"home_owner\", \"has_debt\", \"e_signed\", \"pay_schedule\"])\n",
    "dataset.onehot_category([\"pay_schedule\"])\n",
    "data = dataset.data\n",
    "dtrain, Xtrain, Xtest, dtest, Xtest, Ytest = data_train_test_split(\"e_signed\", data)"
   ]
  },
  {
   "cell_type": "markdown",
   "id": "fe5eb4a3-be72-4798-bb26-ede96b6d797c",
   "metadata": {},
   "source": [
    "## Train"
   ]
  },
  {
   "cell_type": "code",
   "execution_count": 291,
   "id": "51bcc5f3-5a7b-48b5-add6-549fd7ed7856",
   "metadata": {},
   "outputs": [
    {
     "name": "stdout",
     "output_type": "stream",
     "text": [
      "the size of param space is 1093062600000\n",
      "100%|███████████████████████████████████████████████| 3/3 [00:20<00:00,  6.85s/trial, best loss: 0.3887275705457524]\n",
      "{'booster': 'dart', 'objective': 'binary:logistic', 'max_depth': 26, 'num_boost_round': 140, 'eta': 1.7500000000000002, 'colsample_bytree': 0.6000000000000001, 'colsample_bynode': 0.8, 'gamma': 8.4, 'lambda': 0.8, 'min_child_weight': 22, 'subsample': 0.5, 'rate_drop': 0.8}\n"
     ]
    }
   ],
   "source": [
    "train = True\n",
    "if train:\n",
    "    param_grid = {\"booster\":[\"gbtree\",\"dart\"]\n",
    "                 ,\"objective\":[\"binary:logistic\"]\n",
    "                 ,\"max_depth\":[*np.arange(2,30,2)]\n",
    "                 ,\"num_boost_round\":[*np.arange(50,200,10)]\n",
    "                 ,\"eta\":[*np.arange(0.05,2.05,0.05)]\n",
    "                 ,\"colsample_bytree\":[*np.arange(0.3,1,0.1)]\n",
    "                 ,\"colsample_bynode\":[*np.arange(0.1,1,0.1)]\n",
    "                 ,\"gamma\":[*np.arange(0,10,0.3)]\n",
    "                 ,\"lambda\":[*np.arange(0,3,0.2)]\n",
    "                 ,\"min_child_weight\":[*np.arange(0,50,2)]\n",
    "                 ,\"subsample\":[*np.arange(0.1,1,0.1)]\n",
    "                 ,\"rate_drop\":[*np.arange(0.1,1,0.1)]\n",
    "    }\n",
    "    size_param_grid(param_grid)\n",
    "    param_grid_simple = {key:hp.choice(key,value) for key, value in param_grid.items()}\n",
    "    xgb.set_config(verbosity=0) # hide bizzare warning\n",
    "    best_paramas, trials = param_hyperopt(3)\n",
    "\n",
    "    # save params to local\n",
    "    modelfile = open(model_path, 'wb')\n",
    "    pickle.dump(best_paramas, modelfile)\n",
    "    modelfile.close()\n"
   ]
  },
  {
   "cell_type": "markdown",
   "id": "f81c254f-1d23-4579-816e-7ffa106acf87",
   "metadata": {
    "tags": []
   },
   "source": [
    "## Prediction and Evaluation"
   ]
  },
  {
   "cell_type": "code",
   "execution_count": 292,
   "id": "8762881e-119f-4630-a699-2a176df06253",
   "metadata": {},
   "outputs": [
    {
     "name": "stdout",
     "output_type": "stream",
     "text": [
      "0.6128792108691606\n"
     ]
    }
   ],
   "source": [
    "dtrain, Xtrain, Xtest, dtest, Xtest, Ytest = data_train_test_split(\"e_signed\", data)\n",
    "Xtest = xgb.DMatrix(Xtest)\n",
    "\n",
    "# Load Params from local\n",
    "modelfile = open(model_path, 'rb')\n",
    "best_paramas = pickle.load(modelfile)\n",
    "\n",
    "# Fit\n",
    "xgb_model = xgb.train(best_paramas, dtrain)\n",
    "\n",
    "Ypredict = (xgb_model.predict(Xtest) > 0.5).astype(\"int\") # convert probability to category\n",
    "print(accuracy_score(Ytest, Ypredict))"
   ]
  },
  {
   "cell_type": "code",
   "execution_count": 293,
   "id": "7a4c2a18-db59-47a8-b7df-e79eca243e3b",
   "metadata": {},
   "outputs": [],
   "source": [
    "ploton_tree = False\n",
    "if ploton_tree:\n",
    "    xgb.plot_importance(xgb_model)\n",
    "    fig, ax = plt.subplots(figsize=(30, 30))\n",
    "    xgb.plot_tree(xgb_model, num_trees=0, ax=ax)\n",
    "    plt.show()\n",
    "    # plt.savefig(\"temp.pdf\")"
   ]
  },
  {
   "cell_type": "code",
   "execution_count": null,
   "id": "2d0b594f-c1e7-40e0-ac24-bc8372d1009c",
   "metadata": {},
   "outputs": [],
   "source": []
  }
 ],
 "metadata": {
  "kernelspec": {
   "display_name": "Python 3 (ipykernel)",
   "language": "python",
   "name": "python3"
  },
  "language_info": {
   "codemirror_mode": {
    "name": "ipython",
    "version": 3
   },
   "file_extension": ".py",
   "mimetype": "text/x-python",
   "name": "python",
   "nbconvert_exporter": "python",
   "pygments_lexer": "ipython3",
   "version": "3.9.7"
  },
  "toc-autonumbering": false,
  "widgets": {
   "application/vnd.jupyter.widget-state+json": {
    "state": {
     "07a5c8d175154559b4d19eebed269fae": {
      "model_module": "jupyter-matplotlib",
      "model_module_version": "^0.11",
      "model_name": "ToolbarModel",
      "state": {
       "_model_module_version": "^0.11",
       "_view_module_version": "^0.11",
       "collapsed": true,
       "layout": "IPY_MODEL_c0c9b1f552174367ac465adec7c27d04",
       "orientation": "vertical",
       "toolitems": [
        [
         "Home",
         "Reset original view",
         "home",
         "home"
        ],
        [
         "Back",
         "Back to previous view",
         "arrow-left",
         "back"
        ],
        [
         "Forward",
         "Forward to next view",
         "arrow-right",
         "forward"
        ],
        [
         "Pan",
         "Left button pans, Right button zooms\nx/y fixes axis, CTRL fixes aspect",
         "arrows",
         "pan"
        ],
        [
         "Zoom",
         "Zoom to rectangle\nx/y fixes axis, CTRL fixes aspect",
         "square-o",
         "zoom"
        ],
        [
         "Download",
         "Download plot",
         "floppy-o",
         "save_figure"
        ]
       ]
      }
     },
     "0889ba360c0e45e98bac77cd5543c368": {
      "model_module": "@jupyter-widgets/base",
      "model_module_version": "1.2.0",
      "model_name": "LayoutModel",
      "state": {}
     },
     "122c40a55f804af5a5007e861879b92a": {
      "model_module": "@jupyter-widgets/base",
      "model_module_version": "1.2.0",
      "model_name": "LayoutModel",
      "state": {}
     },
     "17ee75e343d0470ba34156153f69ae29": {
      "model_module": "@jupyter-widgets/base",
      "model_module_version": "1.2.0",
      "model_name": "LayoutModel",
      "state": {}
     },
     "1866ccfedf084e2884d453442dbef820": {
      "model_module": "jupyter-matplotlib",
      "model_module_version": "^0.11",
      "model_name": "ToolbarModel",
      "state": {
       "_model_module_version": "^0.11",
       "_view_module_version": "^0.11",
       "collapsed": true,
       "layout": "IPY_MODEL_888d6d2a19b5458ab573e57ccbdfebc4",
       "orientation": "vertical",
       "toolitems": [
        [
         "Home",
         "Reset original view",
         "home",
         "home"
        ],
        [
         "Back",
         "Back to previous view",
         "arrow-left",
         "back"
        ],
        [
         "Forward",
         "Forward to next view",
         "arrow-right",
         "forward"
        ],
        [
         "Pan",
         "Left button pans, Right button zooms\nx/y fixes axis, CTRL fixes aspect",
         "arrows",
         "pan"
        ],
        [
         "Zoom",
         "Zoom to rectangle\nx/y fixes axis, CTRL fixes aspect",
         "square-o",
         "zoom"
        ],
        [
         "Download",
         "Download plot",
         "floppy-o",
         "save_figure"
        ]
       ]
      }
     },
     "1b8c40ed1f9d4bc2a4a6423f046a0a89": {
      "model_module": "@jupyter-widgets/base",
      "model_module_version": "1.2.0",
      "model_name": "LayoutModel",
      "state": {}
     },
     "20b57e9ef94a472fb39fbb01a61d6114": {
      "model_module": "@jupyter-widgets/base",
      "model_module_version": "1.2.0",
      "model_name": "LayoutModel",
      "state": {}
     },
     "2ba97701761b4d86be8d605bb9bdf7bf": {
      "model_module": "@jupyter-widgets/base",
      "model_module_version": "1.2.0",
      "model_name": "LayoutModel",
      "state": {}
     },
     "36a85f4b8dbb426896da27ab5fb17c5d": {
      "model_module": "jupyter-matplotlib",
      "model_module_version": "^0.11",
      "model_name": "ToolbarModel",
      "state": {
       "_model_module_version": "^0.11",
       "_view_module_version": "^0.11",
       "collapsed": true,
       "layout": "IPY_MODEL_77699eb62083479a88c8179a0623f861",
       "orientation": "vertical",
       "toolitems": [
        [
         "Home",
         "Reset original view",
         "home",
         "home"
        ],
        [
         "Back",
         "Back to previous view",
         "arrow-left",
         "back"
        ],
        [
         "Forward",
         "Forward to next view",
         "arrow-right",
         "forward"
        ],
        [
         "Pan",
         "Left button pans, Right button zooms\nx/y fixes axis, CTRL fixes aspect",
         "arrows",
         "pan"
        ],
        [
         "Zoom",
         "Zoom to rectangle\nx/y fixes axis, CTRL fixes aspect",
         "square-o",
         "zoom"
        ],
        [
         "Download",
         "Download plot",
         "floppy-o",
         "save_figure"
        ]
       ]
      }
     },
     "401737486e164bd79fba302fe55e25d0": {
      "model_module": "@jupyter-widgets/base",
      "model_module_version": "1.2.0",
      "model_name": "LayoutModel",
      "state": {}
     },
     "413a0581df02447fa9ca60ccc03e608b": {
      "model_module": "jupyter-matplotlib",
      "model_module_version": "^0.11",
      "model_name": "ToolbarModel",
      "state": {
       "_model_module_version": "^0.11",
       "_view_module_version": "^0.11",
       "collapsed": true,
       "layout": "IPY_MODEL_1b8c40ed1f9d4bc2a4a6423f046a0a89",
       "orientation": "vertical",
       "toolitems": [
        [
         "Home",
         "Reset original view",
         "home",
         "home"
        ],
        [
         "Back",
         "Back to previous view",
         "arrow-left",
         "back"
        ],
        [
         "Forward",
         "Forward to next view",
         "arrow-right",
         "forward"
        ],
        [
         "Pan",
         "Left button pans, Right button zooms\nx/y fixes axis, CTRL fixes aspect",
         "arrows",
         "pan"
        ],
        [
         "Zoom",
         "Zoom to rectangle\nx/y fixes axis, CTRL fixes aspect",
         "square-o",
         "zoom"
        ],
        [
         "Download",
         "Download plot",
         "floppy-o",
         "save_figure"
        ]
       ]
      }
     },
     "413df25a07f846a7a9eb847f79e22299": {
      "model_module": "jupyter-matplotlib",
      "model_module_version": "^0.11",
      "model_name": "ToolbarModel",
      "state": {
       "_model_module_version": "^0.11",
       "_view_module_version": "^0.11",
       "collapsed": true,
       "layout": "IPY_MODEL_43422a87a6f54a9fae696459be051e55",
       "orientation": "vertical",
       "toolitems": [
        [
         "Home",
         "Reset original view",
         "home",
         "home"
        ],
        [
         "Back",
         "Back to previous view",
         "arrow-left",
         "back"
        ],
        [
         "Forward",
         "Forward to next view",
         "arrow-right",
         "forward"
        ],
        [
         "Pan",
         "Left button pans, Right button zooms\nx/y fixes axis, CTRL fixes aspect",
         "arrows",
         "pan"
        ],
        [
         "Zoom",
         "Zoom to rectangle\nx/y fixes axis, CTRL fixes aspect",
         "square-o",
         "zoom"
        ],
        [
         "Download",
         "Download plot",
         "floppy-o",
         "save_figure"
        ]
       ]
      }
     },
     "43422a87a6f54a9fae696459be051e55": {
      "model_module": "@jupyter-widgets/base",
      "model_module_version": "1.2.0",
      "model_name": "LayoutModel",
      "state": {}
     },
     "4d5df6ea11244444a36f57c75cd31658": {
      "model_module": "jupyter-matplotlib",
      "model_module_version": "^0.11",
      "model_name": "ToolbarModel",
      "state": {
       "_model_module_version": "^0.11",
       "_view_module_version": "^0.11",
       "collapsed": true,
       "layout": "IPY_MODEL_63d049a0e97a4d198cd3c8020107540f",
       "orientation": "vertical",
       "toolitems": [
        [
         "Home",
         "Reset original view",
         "home",
         "home"
        ],
        [
         "Back",
         "Back to previous view",
         "arrow-left",
         "back"
        ],
        [
         "Forward",
         "Forward to next view",
         "arrow-right",
         "forward"
        ],
        [
         "Pan",
         "Left button pans, Right button zooms\nx/y fixes axis, CTRL fixes aspect",
         "arrows",
         "pan"
        ],
        [
         "Zoom",
         "Zoom to rectangle\nx/y fixes axis, CTRL fixes aspect",
         "square-o",
         "zoom"
        ],
        [
         "Download",
         "Download plot",
         "floppy-o",
         "save_figure"
        ]
       ]
      }
     },
     "63d049a0e97a4d198cd3c8020107540f": {
      "model_module": "@jupyter-widgets/base",
      "model_module_version": "1.2.0",
      "model_name": "LayoutModel",
      "state": {}
     },
     "63e024ff00be402c8c14df87d48a1933": {
      "model_module": "@jupyter-widgets/base",
      "model_module_version": "1.2.0",
      "model_name": "LayoutModel",
      "state": {}
     },
     "66b973d5340f4a8ba7e3903aff7229a0": {
      "model_module": "@jupyter-widgets/base",
      "model_module_version": "1.2.0",
      "model_name": "LayoutModel",
      "state": {}
     },
     "77699eb62083479a88c8179a0623f861": {
      "model_module": "@jupyter-widgets/base",
      "model_module_version": "1.2.0",
      "model_name": "LayoutModel",
      "state": {}
     },
     "7eacacb12be7456b862e12e84572cd07": {
      "model_module": "jupyter-matplotlib",
      "model_module_version": "^0.11",
      "model_name": "ToolbarModel",
      "state": {
       "_current_action": "pan",
       "_model_module_version": "^0.11",
       "_view_module_version": "^0.11",
       "collapsed": true,
       "layout": "IPY_MODEL_94eeeb3660944149a37ac1a8bd096918",
       "orientation": "vertical",
       "toolitems": [
        [
         "Home",
         "Reset original view",
         "home",
         "home"
        ],
        [
         "Back",
         "Back to previous view",
         "arrow-left",
         "back"
        ],
        [
         "Forward",
         "Forward to next view",
         "arrow-right",
         "forward"
        ],
        [
         "Pan",
         "Left button pans, Right button zooms\nx/y fixes axis, CTRL fixes aspect",
         "arrows",
         "pan"
        ],
        [
         "Zoom",
         "Zoom to rectangle\nx/y fixes axis, CTRL fixes aspect",
         "square-o",
         "zoom"
        ],
        [
         "Download",
         "Download plot",
         "floppy-o",
         "save_figure"
        ]
       ]
      }
     },
     "821f28ab98474b11b05e29fcc50d5ce6": {
      "model_module": "@jupyter-widgets/base",
      "model_module_version": "1.2.0",
      "model_name": "LayoutModel",
      "state": {}
     },
     "8537c19ebb7b498a96db4dff90b3a860": {
      "model_module": "jupyter-matplotlib",
      "model_module_version": "^0.11",
      "model_name": "ToolbarModel",
      "state": {
       "_model_module_version": "^0.11",
       "_view_module_version": "^0.11",
       "collapsed": true,
       "layout": "IPY_MODEL_821f28ab98474b11b05e29fcc50d5ce6",
       "orientation": "vertical",
       "toolitems": [
        [
         "Home",
         "Reset original view",
         "home",
         "home"
        ],
        [
         "Back",
         "Back to previous view",
         "arrow-left",
         "back"
        ],
        [
         "Forward",
         "Forward to next view",
         "arrow-right",
         "forward"
        ],
        [
         "Pan",
         "Left button pans, Right button zooms\nx/y fixes axis, CTRL fixes aspect",
         "arrows",
         "pan"
        ],
        [
         "Zoom",
         "Zoom to rectangle\nx/y fixes axis, CTRL fixes aspect",
         "square-o",
         "zoom"
        ],
        [
         "Download",
         "Download plot",
         "floppy-o",
         "save_figure"
        ]
       ]
      }
     },
     "888d6d2a19b5458ab573e57ccbdfebc4": {
      "model_module": "@jupyter-widgets/base",
      "model_module_version": "1.2.0",
      "model_name": "LayoutModel",
      "state": {}
     },
     "94eeeb3660944149a37ac1a8bd096918": {
      "model_module": "@jupyter-widgets/base",
      "model_module_version": "1.2.0",
      "model_name": "LayoutModel",
      "state": {}
     },
     "98354dbcf23d4f4dbcf1fa22e23049ed": {
      "model_module": "jupyter-matplotlib",
      "model_module_version": "^0.11",
      "model_name": "ToolbarModel",
      "state": {
       "_model_module_version": "^0.11",
       "_view_module_version": "^0.11",
       "collapsed": true,
       "layout": "IPY_MODEL_20b57e9ef94a472fb39fbb01a61d6114",
       "orientation": "vertical",
       "toolitems": [
        [
         "Home",
         "Reset original view",
         "home",
         "home"
        ],
        [
         "Back",
         "Back to previous view",
         "arrow-left",
         "back"
        ],
        [
         "Forward",
         "Forward to next view",
         "arrow-right",
         "forward"
        ],
        [
         "Pan",
         "Left button pans, Right button zooms\nx/y fixes axis, CTRL fixes aspect",
         "arrows",
         "pan"
        ],
        [
         "Zoom",
         "Zoom to rectangle\nx/y fixes axis, CTRL fixes aspect",
         "square-o",
         "zoom"
        ],
        [
         "Download",
         "Download plot",
         "floppy-o",
         "save_figure"
        ]
       ]
      }
     },
     "9ab5db9311b742ff99c068c7242eebd0": {
      "model_module": "jupyter-matplotlib",
      "model_module_version": "^0.11",
      "model_name": "ToolbarModel",
      "state": {
       "_model_module_version": "^0.11",
       "_view_module_version": "^0.11",
       "collapsed": true,
       "layout": "IPY_MODEL_e44ea97f09724a51a716191bddaacf07",
       "orientation": "vertical",
       "toolitems": [
        [
         "Home",
         "Reset original view",
         "home",
         "home"
        ],
        [
         "Back",
         "Back to previous view",
         "arrow-left",
         "back"
        ],
        [
         "Forward",
         "Forward to next view",
         "arrow-right",
         "forward"
        ],
        [
         "Pan",
         "Left button pans, Right button zooms\nx/y fixes axis, CTRL fixes aspect",
         "arrows",
         "pan"
        ],
        [
         "Zoom",
         "Zoom to rectangle\nx/y fixes axis, CTRL fixes aspect",
         "square-o",
         "zoom"
        ],
        [
         "Download",
         "Download plot",
         "floppy-o",
         "save_figure"
        ]
       ]
      }
     },
     "9b95258171764853bafe416cffe01acc": {
      "model_module": "jupyter-matplotlib",
      "model_module_version": "^0.11",
      "model_name": "ToolbarModel",
      "state": {
       "_model_module_version": "^0.11",
       "_view_module_version": "^0.11",
       "collapsed": true,
       "layout": "IPY_MODEL_66b973d5340f4a8ba7e3903aff7229a0",
       "orientation": "vertical",
       "toolitems": [
        [
         "Home",
         "Reset original view",
         "home",
         "home"
        ],
        [
         "Back",
         "Back to previous view",
         "arrow-left",
         "back"
        ],
        [
         "Forward",
         "Forward to next view",
         "arrow-right",
         "forward"
        ],
        [
         "Pan",
         "Left button pans, Right button zooms\nx/y fixes axis, CTRL fixes aspect",
         "arrows",
         "pan"
        ],
        [
         "Zoom",
         "Zoom to rectangle\nx/y fixes axis, CTRL fixes aspect",
         "square-o",
         "zoom"
        ],
        [
         "Download",
         "Download plot",
         "floppy-o",
         "save_figure"
        ]
       ]
      }
     },
     "a3e14808dbb245c09af7684c2ee9632e": {
      "model_module": "@jupyter-widgets/base",
      "model_module_version": "1.2.0",
      "model_name": "LayoutModel",
      "state": {}
     },
     "aee941f975bb4d75acfbae22939e6351": {
      "model_module": "@jupyter-widgets/base",
      "model_module_version": "1.2.0",
      "model_name": "LayoutModel",
      "state": {}
     },
     "b7aa35c71cbf4abfaba7a3b22671a94e": {
      "model_module": "jupyter-matplotlib",
      "model_module_version": "^0.11",
      "model_name": "ToolbarModel",
      "state": {
       "_model_module_version": "^0.11",
       "_view_module_version": "^0.11",
       "collapsed": true,
       "layout": "IPY_MODEL_17ee75e343d0470ba34156153f69ae29",
       "orientation": "vertical",
       "toolitems": [
        [
         "Home",
         "Reset original view",
         "home",
         "home"
        ],
        [
         "Back",
         "Back to previous view",
         "arrow-left",
         "back"
        ],
        [
         "Forward",
         "Forward to next view",
         "arrow-right",
         "forward"
        ],
        [
         "Pan",
         "Left button pans, Right button zooms\nx/y fixes axis, CTRL fixes aspect",
         "arrows",
         "pan"
        ],
        [
         "Zoom",
         "Zoom to rectangle\nx/y fixes axis, CTRL fixes aspect",
         "square-o",
         "zoom"
        ],
        [
         "Download",
         "Download plot",
         "floppy-o",
         "save_figure"
        ]
       ]
      }
     },
     "c0c9b1f552174367ac465adec7c27d04": {
      "model_module": "@jupyter-widgets/base",
      "model_module_version": "1.2.0",
      "model_name": "LayoutModel",
      "state": {}
     },
     "c215a0f151994e4a8bc909f808498b6d": {
      "model_module": "@jupyter-widgets/base",
      "model_module_version": "1.2.0",
      "model_name": "LayoutModel",
      "state": {}
     },
     "d7b10a28f7e046cd8147b177747a9452": {
      "model_module": "@jupyter-widgets/base",
      "model_module_version": "1.2.0",
      "model_name": "LayoutModel",
      "state": {}
     },
     "e24109908f2240e28337e404a9fa0e15": {
      "model_module": "@jupyter-widgets/base",
      "model_module_version": "1.2.0",
      "model_name": "LayoutModel",
      "state": {}
     },
     "e44ea97f09724a51a716191bddaacf07": {
      "model_module": "@jupyter-widgets/base",
      "model_module_version": "1.2.0",
      "model_name": "LayoutModel",
      "state": {}
     },
     "e851cd71b7ec429682f0e4f693ad8cee": {
      "model_module": "jupyter-matplotlib",
      "model_module_version": "^0.11",
      "model_name": "ToolbarModel",
      "state": {
       "_model_module_version": "^0.11",
       "_view_module_version": "^0.11",
       "collapsed": true,
       "layout": "IPY_MODEL_a3e14808dbb245c09af7684c2ee9632e",
       "orientation": "vertical",
       "toolitems": [
        [
         "Home",
         "Reset original view",
         "home",
         "home"
        ],
        [
         "Back",
         "Back to previous view",
         "arrow-left",
         "back"
        ],
        [
         "Forward",
         "Forward to next view",
         "arrow-right",
         "forward"
        ],
        [
         "Pan",
         "Left button pans, Right button zooms\nx/y fixes axis, CTRL fixes aspect",
         "arrows",
         "pan"
        ],
        [
         "Zoom",
         "Zoom to rectangle\nx/y fixes axis, CTRL fixes aspect",
         "square-o",
         "zoom"
        ],
        [
         "Download",
         "Download plot",
         "floppy-o",
         "save_figure"
        ]
       ]
      }
     },
     "eb44686e18a043649fb9e94e83ab3d6b": {
      "model_module": "@jupyter-widgets/base",
      "model_module_version": "1.2.0",
      "model_name": "LayoutModel",
      "state": {}
     },
     "ed99cbe26fb746a5831053f08377454e": {
      "model_module": "@jupyter-widgets/base",
      "model_module_version": "1.2.0",
      "model_name": "LayoutModel",
      "state": {}
     },
     "fb60f47e11214818a6f210f49405e28a": {
      "model_module": "jupyter-matplotlib",
      "model_module_version": "^0.11",
      "model_name": "ToolbarModel",
      "state": {
       "_model_module_version": "^0.11",
       "_view_module_version": "^0.11",
       "collapsed": true,
       "layout": "IPY_MODEL_0889ba360c0e45e98bac77cd5543c368",
       "orientation": "vertical",
       "toolitems": [
        [
         "Home",
         "Reset original view",
         "home",
         "home"
        ],
        [
         "Back",
         "Back to previous view",
         "arrow-left",
         "back"
        ],
        [
         "Forward",
         "Forward to next view",
         "arrow-right",
         "forward"
        ],
        [
         "Pan",
         "Left button pans, Right button zooms\nx/y fixes axis, CTRL fixes aspect",
         "arrows",
         "pan"
        ],
        [
         "Zoom",
         "Zoom to rectangle\nx/y fixes axis, CTRL fixes aspect",
         "square-o",
         "zoom"
        ],
        [
         "Download",
         "Download plot",
         "floppy-o",
         "save_figure"
        ]
       ]
      }
     },
     "fe256ef9ae8d4c2080a36cd2752d0728": {
      "model_module": "jupyter-matplotlib",
      "model_module_version": "^0.11",
      "model_name": "ToolbarModel",
      "state": {
       "_model_module_version": "^0.11",
       "_view_module_version": "^0.11",
       "collapsed": true,
       "layout": "IPY_MODEL_2ba97701761b4d86be8d605bb9bdf7bf",
       "orientation": "vertical",
       "toolitems": [
        [
         "Home",
         "Reset original view",
         "home",
         "home"
        ],
        [
         "Back",
         "Back to previous view",
         "arrow-left",
         "back"
        ],
        [
         "Forward",
         "Forward to next view",
         "arrow-right",
         "forward"
        ],
        [
         "Pan",
         "Left button pans, Right button zooms\nx/y fixes axis, CTRL fixes aspect",
         "arrows",
         "pan"
        ],
        [
         "Zoom",
         "Zoom to rectangle\nx/y fixes axis, CTRL fixes aspect",
         "square-o",
         "zoom"
        ],
        [
         "Download",
         "Download plot",
         "floppy-o",
         "save_figure"
        ]
       ]
      }
     },
     "ffef5172500f45e8850068672a05cabf": {
      "model_module": "jupyter-matplotlib",
      "model_module_version": "^0.11",
      "model_name": "ToolbarModel",
      "state": {
       "_model_module_version": "^0.11",
       "_view_module_version": "^0.11",
       "collapsed": true,
       "layout": "IPY_MODEL_e24109908f2240e28337e404a9fa0e15",
       "orientation": "vertical",
       "toolitems": [
        [
         "Home",
         "Reset original view",
         "home",
         "home"
        ],
        [
         "Back",
         "Back to previous view",
         "arrow-left",
         "back"
        ],
        [
         "Forward",
         "Forward to next view",
         "arrow-right",
         "forward"
        ],
        [
         "Pan",
         "Left button pans, Right button zooms\nx/y fixes axis, CTRL fixes aspect",
         "arrows",
         "pan"
        ],
        [
         "Zoom",
         "Zoom to rectangle\nx/y fixes axis, CTRL fixes aspect",
         "square-o",
         "zoom"
        ],
        [
         "Download",
         "Download plot",
         "floppy-o",
         "save_figure"
        ]
       ]
      }
     }
    },
    "version_major": 2,
    "version_minor": 0
   }
  }
 },
 "nbformat": 4,
 "nbformat_minor": 5
}
